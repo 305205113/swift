{
 "cells": [
  {
   "cell_type": "markdown",
   "metadata": {
    "colab_type": "text",
    "id": "ZloPIuRHn97X"
   },
   "source": [
    "##### Copyright 2018 The TensorFlow Authors. [Licensed under the Apache License, Version 2.0](#scrollTo=Afd8bu4xJOgh)."
   ]
  },
  {
   "cell_type": "code",
   "execution_count": 0,
   "metadata": {
    "colab": {},
    "colab_type": "code",
    "id": "tNgCmfUvJNoF"
   },
   "outputs": [],
   "source": [
    "#@title Licensed under the Apache License, Version 2.0 (the \"License\"); { display-mode: \"form\" }\n",
    "// Licensed under the Apache License, Version 2.0 (the \"License\");\n",
    "// you may not use this file except in compliance with the License.\n",
    "// You may obtain a copy of the License at\n",
    "//\n",
    "// https://www.apache.org/licenses/LICENSE-2.0\n",
    "//\n",
    "// Unless required by applicable law or agreed to in writing, software\n",
    "// distributed under the License is distributed on an \"AS IS\" BASIS,\n",
    "// WITHOUT WARRANTIES OR CONDITIONS OF ANY KIND, either express or implied.\n",
    "// See the License for the specific language governing permissions and\n",
    "// limitations under the License."
   ]
  },
  {
   "cell_type": "markdown",
   "metadata": {
    "colab_type": "text",
    "id": "AlvdCHw5JGyx"
   },
   "source": [
    "<table class=\"tfo-notebook-buttons\" align=\"left\">\n",
    "  <td>\n",
    "    <a target=\"_blank\" href=\"https://www.tensorflow.org/swift/tutorials/custom_differentiation\"><img src=\"https://www.tensorflow.org/images/tf_logo_32px.png\" />View on TensorFlow.org</a>\n",
    "  </td>\n",
    "  <td>\n",
    "    <a target=\"_blank\" href=\"https://colab.research.google.com/github/tensorflow/swift/blob/master/docs/site/tutorials/custom_differentiation.ipynb\"><img src=\"https://www.tensorflow.org/images/colab_logo_32px.png\" />Run in Google Colab</a>\n",
    "  </td>\n",
    "  <td>\n",
    "    <a target=\"_blank\" href=\"https://github.com/tensorflow/swift/blob/master/docs/site/tutorials/custom_differentiation.ipynb\"><img src=\"https://www.tensorflow.org/images/GitHub-Mark-32px.png\" />View source on GitHub</a>\n",
    "  </td>\n",
    "</table>"
   ]
  },
  {
   "cell_type": "markdown",
   "metadata": {
    "colab_type": "text",
    "id": "c_1u7JSBMx3x"
   },
   "source": [
    "# Custom differentiation\n",
    "\n",
    "This tutorial will show you how to define your own custom derivatives, perform derivative surgery, and implement your own gradient checkpointing API in just 5 lines of Swift."
   ]
  },
  {
   "cell_type": "markdown",
   "metadata": {
    "colab_type": "text",
    "id": "gHuQo_kCTjFr"
   },
   "source": [
    "## Declaring custom derivatives"
   ]
  },
  {
   "cell_type": "markdown",
   "metadata": {
    "colab_type": "text",
    "id": "LP0gMw56TlvH"
   },
   "source": [
    "You can define custom derivatives for any Swift function that has differentiable parameters and results. By doing that, you can even import a C function and make it differentiable."
   ]
  },
  {
   "cell_type": "code",
   "execution_count": 1,
   "metadata": {
    "colab": {
     "base_uri": "https://localhost:8080/",
     "height": 85
    },
    "colab_type": "code",
    "id": "j0a8prgZTlEO",
    "outputId": "f0f65b8a-30ce-46bb-a6c5-efe3e8956e44"
   },
   "outputs": [
    {
     "name": "stdout",
     "output_type": "stream",
     "text": [
      "Taking 𝑒(2.7182817) to the power of 3.0!\r\n",
      "exp(3) = 20.085535\r\n",
      "Taking 𝑒(2.7182817) to the power of 3.0!\r\n",
      "𝛁exp(3) = 20.085535\r\n"
     ]
    }
   ],
   "source": [
    "import Glibc\n",
    "\n",
    "func sillyExp(_ x: Float) -> Float {\n",
    "    let 𝑒 = Float(M_E)\n",
    "    print(\"Taking 𝑒(\\(𝑒)) to the power of \\(x)!\")\n",
    "    return pow(𝑒, x)\n",
    "}\n",
    "\n",
    "@differentiating(sillyExp)\n",
    "func sillyDerivative(_ x: Float) -> (value: Float, pullback: (Float) -> Float) {\n",
    "    let y = sillyExp(x)\n",
    "    return (value: y, pullback: { v in v * y })\n",
    "}\n",
    "\n",
    "print(\"exp(3) =\", sillyExp(3))\n",
    "print(\"𝛁exp(3) =\", gradient(of: sillyExp)(3))"
   ]
  },
  {
   "cell_type": "markdown",
   "metadata": {
    "colab_type": "text",
    "id": "eQPX9r3R5OP-"
   },
   "source": [
    "## Stop derivatives from propagating\n",
    "\n",
    "Commonly known as \"stop gradient\" in machine learning use cases, method [`withoutDerivative()`](https://www.tensorflow.org/swift/api_docs/Protocols/Differentiable#/s:10TensorFlow14DifferentiablePAAE17withoutDerivativexyF) stops derivatives from propagating.\n",
    "\n",
    "Plus, `withoutDerivative()` can sometimes help the Swift compiler with identifying what not to differentiate and producing more efficient derivaitves. When it is detectable that the derivative of a function will always be zero, the Swift compiler will produce a warning. Explicitly using `.withoutDerivative()` silences that warning."
   ]
  },
  {
   "cell_type": "code",
   "execution_count": 2,
   "metadata": {
    "colab": {
     "base_uri": "https://localhost:8080/",
     "height": 68
    },
    "colab_type": "code",
    "id": "ctRt6vBO5Wle",
    "outputId": "49580e7d-0bde-4e78-b825-12444bf39767"
   },
   "outputs": [
    {
     "data": {
      "text/plain": [
       "▿ 2 elements\n",
       "  - .0 : -0.18009877\n",
       "  - .1 : 0.0\n"
      ]
     },
     "execution_count": 2,
     "metadata": {},
     "output_type": "execute_result"
    }
   ],
   "source": [
    "let x: Float = 2.0\n",
    "let y: Float = 3.0\n",
    "gradient(at: x, y) { x, y in\n",
    "    sin(sin(sin(x))) + cos(cos(cos(y))).withoutDerivative()\n",
    "}"
   ]
  },
  {
   "cell_type": "markdown",
   "metadata": {
    "colab_type": "text",
    "id": "EeV3wXQ79WS2"
   },
   "source": [
    "## Derivative surgery\n",
    "\n",
    "Method [`withGradient(_:)`](https://www.tensorflow.org/swift/api_docs/Protocols/Differentiable#/s:10TensorFlow14DifferentiablePAAE12withGradientyxy15CotangentVectorQzzcF) makes arbitrary operations (including mutation) run on the gradient at a value during the enclosing function’s backpropagation. \n",
    "\n",
    "Use this to debug or make experimental tweaks to backpropagation."
   ]
  },
  {
   "cell_type": "markdown",
   "metadata": {
    "colab_type": "text",
    "id": "AHV0ryTiD6j8"
   },
   "source": [
    "### It works anywhere"
   ]
  },
  {
   "cell_type": "markdown",
   "metadata": {
    "colab_type": "text",
    "id": "9zKSeUjTmbxq"
   },
   "source": [
    "All differentiation APIs provided by the standard library are defined generically over all types that conform to the `Differentiable` protocol: `Float`, `Double`, `Float80`, SIMD vectors, and even your own types!\n",
    "\n",
    "Read technical document [Differentiable Types](https://github.com/tensorflow/swift/blob/master/docs/DifferentiableTypes.md) for more insights on the `Differentiable` protocol."
   ]
  },
  {
   "cell_type": "code",
   "execution_count": 3,
   "metadata": {
    "colab": {
     "base_uri": "https://localhost:8080/",
     "height": 68
    },
    "colab_type": "code",
    "id": "eKne7szjD8lr",
    "outputId": "31bba009-3758-4179-92dc-f080dcba8421"
   },
   "outputs": [
    {
     "name": "stdout",
     "output_type": "stream",
     "text": [
      "∂log/∂x = 0.033333335, but rewritten to 0.5\r\n",
      "∂+/∂sin = 1.0\r\n"
     ]
    },
    {
     "data": {
      "text/plain": [
       "0.65425146\n"
      ]
     },
     "execution_count": 3,
     "metadata": {},
     "output_type": "execute_result"
    }
   ],
   "source": [
    "var x: Float = 30\n",
    "x.gradient { x -> Float in\n",
    "    // Print the partial derivative with respect to the result of `sin(x)`.\n",
    "    let a = sin(x).withGradient { print(\"∂+/∂sin = \\($0)\") } \n",
    "    // Force the partial derivative with respect to `x` to be `0.5`.\n",
    "    let b = log(x.withGradient { (dx: inout Float) in\n",
    "        print(\"∂log/∂x = \\(dx), but rewritten to 0.5\");\n",
    "        dx = 0.5\n",
    "    })\n",
    "    return a + b\n",
    "}"
   ]
  },
  {
   "cell_type": "markdown",
   "metadata": {
    "colab_type": "text",
    "id": "vmw0gkqlD9xf"
   },
   "source": [
    "### Use it in a neural network module"
   ]
  },
  {
   "cell_type": "markdown",
   "metadata": {
    "colab_type": "text",
    "id": "JCf_OplsWzhW"
   },
   "source": [
    "Just like how we used it in a simple `Float` function, we can use it in any numerical application, like the following neural network built using the [Swift for TensorFlow Deep Learning Library](https://github.com/tensorflow/swift-apis)."
   ]
  },
  {
   "cell_type": "code",
   "execution_count": 4,
   "metadata": {
    "colab": {
     "base_uri": "https://localhost:8080/",
     "height": 547
    },
    "colab_type": "code",
    "id": "fnSeAbs9-hf3",
    "outputId": "80ea60b8-e17c-47d5-9364-c8768c3e377e"
   },
   "outputs": [
    {
     "name": "stdout",
     "output_type": "stream",
     "text": [
      "Loss: 0.47347727\n",
      "∂L/∂ŷ = [[     -0.25],\n",
      " [     -0.25],\n",
      " [-0.1896767],\n",
      " [     -0.25]]\n",
      "∂L/∂layer1 = [[          0.0,           0.0,           0.0,           0.0,           0.0,           0.0,\n",
      "            0.0,           0.0,           0.0,           0.0],\n",
      " [          0.0,           0.0,           0.0,           0.0,           0.0,           0.0,\n",
      "            0.0,           0.0,           0.0,           0.0],\n",
      " [   0.09033312,   0.086020075,   0.009165018,  -0.053236876,   -0.05316946,   -0.06640874,\n",
      "     -0.1166306,   -0.07447319, -0.0148627525,   -0.04969363],\n",
      " [          0.0,           0.0,           0.0,           0.0,           0.0,           0.0,\n",
      "            0.0,           0.0,           0.0,           0.0]]\n",
      "Loss: 0.46977335\n",
      "∂L/∂ŷ = [[-0.2475765],\n",
      " [     -0.25],\n",
      " [-0.1829733],\n",
      " [     -0.25]]\n",
      "∂L/∂layer1 = [[ 0.117576756,  0.112023674,  0.011962688,  -0.06997616, -0.069399714,  -0.08712108,\n",
      "   -0.15223269,  -0.09720652, -0.019984517, -0.065050445],\n",
      " [         0.0,          0.0,          0.0,          0.0,          0.0,          0.0,\n",
      "           0.0,          0.0,          0.0,          0.0],\n",
      " [ 0.086895995,   0.08279195,  0.008841115,  -0.05171641, -0.051290385,  -0.06438749,\n",
      "   -0.11250873,  -0.07184122,  -0.01476971, -0.048076026],\n",
      " [         0.0,          0.0,          0.0,          0.0,          0.0,          0.0,\n",
      "           0.0,          0.0,          0.0,          0.0]]\n",
      "Loss: 0.46089455\n",
      "∂L/∂ŷ = [[-0.24205914],\n",
      " [      -0.25],\n",
      " [  -0.173325],\n",
      " [-0.24445933]]\n",
      "∂L/∂layer1 = [[  0.11464749,    0.1092902,  0.011696093,  -0.06888055,  -0.06785311,  -0.08559916,\n",
      "   -0.14884011, -0.095040224, -0.020091625, -0.063780636],\n",
      " [         0.0,          0.0,          0.0,          0.0,          0.0,          0.0,\n",
      "           0.0,          0.0,          0.0,          0.0],\n",
      " [  0.08209265,   0.07825659,  0.008374917, -0.049321506, -0.048585813, -0.061292768,\n",
      "   -0.10657608, -0.068052985, -0.014386489, -0.045669746],\n",
      " [   0.1157843,   0.11037389,  0.011812068,  -0.06956355,  -0.06852592,  -0.08644794,\n",
      "   -0.15031597,  -0.09598262, -0.020290848,  -0.06441307]]\n",
      "Loss: 0.43906376\n",
      "∂L/∂ŷ = [[-0.23335361],\n",
      " [      -0.25],\n",
      " [-0.15422195],\n",
      " [-0.21983045]]\n",
      "∂L/∂layer1 = [[ 0.109230414,    0.1048593,  0.011275449,  -0.06761291,  -0.06542558,  -0.08334555,\n",
      "   -0.14348716,  -0.09162215, -0.020952802, -0.062185816],\n",
      " [         0.0,          0.0,          0.0,          0.0,          0.0,          0.0,\n",
      "           0.0,          0.0,          0.0,          0.0],\n",
      " [   0.0721897,   0.06930086,  0.007451874, -0.044684954,  -0.04323936, -0.055082552,\n",
      "  -0.094829775,  -0.06055251, -0.013847576,  -0.04109822],\n",
      " [  0.10290036,  0.098782554,  0.010622022,  -0.06369465,  -0.06163408,  -0.07851556,\n",
      "   -0.13517189, -0.086312525, -0.019738559, -0.058582064]]\n",
      "Loss: 0.4208092\n",
      "∂L/∂ŷ = [[-0.22508752],\n",
      " [      -0.25],\n",
      " [-0.13682604],\n",
      " [ -0.1972903]]\n",
      "∂L/∂layer1 = [[  0.10425704,  0.100727715,  0.010876039,  -0.06627908,   -0.0631246, -0.081124954,\n",
      "   -0.13840441,  -0.08837662, -0.021584364, -0.060602535],\n",
      " [         0.0,          0.0,          0.0,          0.0,          0.0,          0.0,\n",
      "           0.0,          0.0,          0.0,          0.0],\n",
      " [  0.06337569,  0.061230287, 0.0066113183,  -0.04028968, -0.038372133,  -0.04931418,\n",
      "   -0.08413317, -0.053722315, -0.013120688, -0.036839027],\n",
      " [ 0.091381796,   0.08828832, 0.0095329005,  -0.05809394, -0.055329017,  -0.07110642,\n",
      "  -0.121312134,  -0.07746253,   -0.0189188, -0.053118415]]\n",
      "Loss: 0.4008051\n",
      "∂L/∂ŷ = [[-0.21741095],\n",
      " [-0.24005502],\n",
      " [ -0.1209963],\n",
      " [-0.17683613]]\n",
      "∂L/∂layer1 = [[  0.099758536,    0.09694403,   0.010505113,  -0.064948216,  -0.060992997,    -0.0790056,\n",
      "    -0.13368416,   -0.08536255,  -0.022038897,  -0.059083525],\n",
      " [   0.11014872,    0.10704107,   0.011599256,  -0.071712784,   -0.06734562,  -0.087234296,\n",
      "     -0.1476078,   -0.09425335,  -0.024334323,   -0.06523727],\n",
      " [  0.055518884,    0.05395252,  0.0058464385,  -0.036145803,  -0.033944596,    -0.0439692,\n",
      "     -0.0743996,  -0.047507048, -0.0122653665,   -0.03288191],\n",
      " [   0.08114087,   0.078851625,   0.008544573,  -0.052827105,  -0.049610037,     -0.064261,\n",
      "    -0.10873504,  -0.069431566,  -0.017925838,  -0.048056927]]\n",
      "Loss: 0.3763475\n",
      "∂L/∂ŷ = [[ -0.20724186],\n",
      " [ -0.22390339],\n",
      " [-0.101998575],\n",
      " [ -0.15120149]]\n",
      "∂L/∂layer1 = [[  0.09377726,   0.09212233,  0.010013752,  -0.06288731, -0.058343366,  -0.07587351,\n",
      "   -0.12743127,  -0.08136984, -0.022348713,  -0.05707099],\n",
      " [  0.10131662,   0.09952865,  0.010818822,  -0.06794323,  -0.06303397,  -0.08197348,\n",
      "    -0.1376763,  -0.08791169, -0.024145471,   -0.0616593],\n",
      " [  0.04615451,      0.04534,  0.004928485, -0.030951355, -0.028714953,  -0.03734279,\n",
      "  -0.062718056,  -0.04004793, -0.010999403, -0.028088724],\n",
      " [ 0.068418905,   0.06721149,  0.007305928, -0.045881923,  -0.04256671, -0.055356514,\n",
      "   -0.09297251,  -0.05936658, -0.016305385, -0.041638397]]\n",
      "Loss: 0.3567449\n",
      "∂L/∂ŷ = [[ -0.19795337],\n",
      " [ -0.20935643],\n",
      " [-0.085093826],\n",
      " [ -0.12840658]]\n",
      "∂L/∂layer1 = [[ 0.088481024,    0.0877665,   0.00956494, -0.060895406, -0.055920538, -0.072941296,\n",
      "   -0.12171985,  -0.07772288, -0.022468764, -0.055162743],\n",
      " [  0.09357795,   0.09282227,  0.010115925,  -0.06440327, -0.059141826, -0.077143066,\n",
      "   -0.12873149,  -0.08220009, -0.023763074, -0.058340378],\n",
      " [  0.03803516,   0.03772801, 0.0041116616, -0.026176987,  -0.02403845,  -0.03135513,\n",
      "   -0.05232347,  -0.03341058, -0.009658604,   -0.0237127],\n",
      " [  0.05739506,   0.05693157, 0.0062044975, -0.039501075, -0.036274023, -0.047314893,\n",
      "   -0.07895612, -0.050416566, -0.014574833, -0.035782464]]\n",
      "Loss: 0.34101498\n",
      "∂L/∂ŷ = [[  -0.1894674],\n",
      " [ -0.19624329],\n",
      " [-0.070064515],\n",
      " [  -0.1081509]]\n",
      "∂L/∂layer1 = [[  0.08377688,   0.08382528,  0.009154905, -0.058982495,  -0.05370358,  -0.07020129,\n",
      "    -0.1165019,  -0.07439101, -0.022442983, -0.053359337],\n",
      " [  0.08677297,   0.08682311,  0.009482309, -0.061091878, -0.055624172, -0.072711885,\n",
      "   -0.12066834, -0.077051446, -0.023245607, -0.055267617],\n",
      " [ 0.030980453,  0.030998357, 0.0033854581, -0.021811562, -0.019859435,  -0.02596024,\n",
      "  -0.043082077, -0.027509589, -0.008299353, -0.019732134],\n",
      " [ 0.047821123,   0.04784876,   0.00522576, -0.033668116, -0.030654829, -0.040071975,\n",
      "   -0.06650107,  -0.04246353, -0.012810799,  -0.03045833]]\n",
      "Loss: 0.32837427\n",
      "∂L/∂ŷ = [[ -0.18171176],\n",
      " [ -0.18441302],\n",
      " [-0.056716256],\n",
      " [ -0.09016764]]\n",
      "∂L/∂layer1 = [[   0.07958644,    0.08025383,   0.008780158,  -0.057154953,  -0.051673684,   -0.06764469,\n",
      "    -0.11173303,  -0.071345896,  -0.022306388,   -0.05165973],\n",
      " [   0.08076954,   0.081446856,   0.008910681,  -0.058004595,  -0.052441843,   -0.06865027,\n",
      "      -0.113394,   -0.07240649,  -0.022637986,   -0.05242768],\n",
      " [  0.024840685,   0.025048995,  0.0027404814,  -0.017839324,  -0.016128499,  -0.021113403,\n",
      "   -0.034874346,   -0.02226863, -0.0069623166,  -0.016124142],\n",
      " [   0.03949178,   0.039822955,  0.0043568243,     -0.028361,  -0.025641127,   -0.03356614,\n",
      "    -0.05544332,  -0.035402723,  -0.011068708,  -0.025634201]]\n"
     ]
    }
   ],
   "source": [
    "import TensorFlow\n",
    "\n",
    "struct MLP: Layer {\n",
    "    var layer1 = Dense<Float>(inputSize: 2, outputSize: 10, activation: relu)\n",
    "    var layer2 = Dense<Float>(inputSize: 10, outputSize: 1, activation: relu)\n",
    "    \n",
    "    @differentiable\n",
    "    func applied(to input: Tensor<Float>) -> Tensor<Float> {\n",
    "        let h0 = layer1.applied(to: input).withGradient { print(\"∂L/∂layer1 =\", $0) }\n",
    "        return layer2.applied(to: h0)\n",
    "    }\n",
    "}\n",
    "\n",
    "var classifier = MLP()\n",
    "let optimizer = SGD(for: classifier, learningRate: 0.02)\n",
    "\n",
    "let x: Tensor<Float> = [[0, 0], [0, 1], [1, 0], [1, 1]]\n",
    "let y: Tensor<Float> = [0, 1, 1, 0]\n",
    "\n",
    "for _ in 0..<10 {\n",
    "    let 𝛁model = classifier.gradient { classifier -> Tensor<Float> in\n",
    "        let ŷ = classifier.applied(to: x).withGradient { print(\"∂L/∂ŷ =\", $0) }\n",
    "        let loss = (ŷ - y).squared().mean()\n",
    "        print(\"Loss: \\(loss)\")\n",
    "        return loss\n",
    "    }\n",
    "    optimizer.update(&classifier.allDifferentiableVariables, along: 𝛁model)\n",
    "}"
   ]
  },
  {
   "cell_type": "markdown",
   "metadata": {
    "colab_type": "text",
    "id": "TzLfTj28gEUD"
   },
   "source": [
    "## Recomputing activations during backpropagation to save memory (checkpointing)\n",
    "\n",
    "Checkpointing is a traditional technique in reverse-mode automatic differentiation to save memory when computing derivatives by making large intermediate values in the original computation not be saved in memory for backpropagation, but instead recomputed as needed during backpropagation. This technique has been realized in modern deep learning libraries as well. In Swift, API [`withComputationInPullbacks(_:)`](https://www.tensorflow.org/swift/api_docs/Protocols/Differentiable#/s:10TensorFlow14DifferentiablePAAE28withRecomputationInPullbacksyqd__qd__xcAaBRd__lF) makes you able to control what to recompute during backpropagation, and it is available on all `Differentiable` types.\n",
    "\n",
    "But today, let us learn how to define our own gradient checkpointing APIs from scratch, in just a few lines of code."
   ]
  },
  {
   "cell_type": "markdown",
   "metadata": {
    "colab_type": "text",
    "id": "5cZe-JbjwMfZ"
   },
   "source": [
    "### My gradient checkpointing API"
   ]
  },
  {
   "cell_type": "markdown",
   "metadata": {
    "colab_type": "text",
    "id": "606ob1dn2v77"
   },
   "source": [
    "We can define our own gradient checkpointing API, `makeRecomputedInGradient(_:)`, in terms of standard library function [`differentiableFunction(from:)`](https://www.tensorflow.org/swift/api_docs/Functions#/s:10TensorFlow22differentiableFunction4fromq0_x_q_tcq0_5value_15CotangentVectorQz_AEQy_tAEQy0_c8pullbacktx_q_tc_tAA14DifferentiableRzAaJR_AaJR0_r1_lF), which is a shorthand for creating a differentiable function directly from a derivative function (also called a \"vector-Jacobian products (VJP) function\").\n",
    "\n",
    "As we have seen before, the derivative function returns a tuple of the original function's result and a pullback closure. We return `original(x)` in `value:`, and call `pullback(at:in:)` on `original` to evaluate the original function again and get a pullback."
   ]
  },
  {
   "cell_type": "code",
   "execution_count": 5,
   "metadata": {
    "colab": {},
    "colab_type": "code",
    "id": "b1uU3tcVwl_1"
   },
   "outputs": [],
   "source": [
    "/// Given a differentiable function, returns the same differentiable function except when\n",
    "/// derivatives of this function is being computed, values in the original function that are needed\n",
    "/// for computing the derivatives will be recomputed, instead of being captured by the differnetial\n",
    "/// or pullback.\n",
    "///\n",
    "/// - Parameter body: The body of the differentiable function.\n",
    "/// - Returns: The same differentiable function whose derivatives, when computed, will recompute\n",
    "///   some values from the original function.\n",
    "func makeRecomputedInGradient<T: Differentiable, U: Differentiable>(\n",
    "    _ original: @escaping @differentiable (T) -> U\n",
    ") -> @differentiable (T) -> U {\n",
    "    return differentiableFunction { x in\n",
    "        (value: original(x), pullback: { v in pullback(at: x, in: original)(v) })\n",
    "    }\n",
    "}"
   ]
  },
  {
   "cell_type": "markdown",
   "metadata": {
    "colab_type": "text",
    "id": "UbeKj7NEF7zz"
   },
   "source": [
    "### Verify it works"
   ]
  },
  {
   "cell_type": "code",
   "execution_count": 6,
   "metadata": {
    "colab": {
     "base_uri": "https://localhost:8080/",
     "height": 102
    },
    "colab_type": "code",
    "id": "oee8SXital45",
    "outputId": "f4e7bd68-606a-46d6-96f4-c5294d8e302a"
   },
   "outputs": [
    {
     "name": "stdout",
     "output_type": "stream",
     "text": [
      "Running original computation...\r\n",
      "  Computing square...\r\n",
      "Running backpropagation...\r\n",
      "  Computing square...\r\n",
      "Gradient = -0.9129453\r\n"
     ]
    }
   ],
   "source": [
    "let input: Float = 10.0\n",
    "print(\"Running original computation...\")\n",
    "\n",
    "// Differentiable multiplication with checkpointing.\n",
    "let square = makeRecomputedInGradient { (x: Float) -> Float in\n",
    "    print(\"  Computing square...\")\n",
    "    return x * x\n",
    "}\n",
    "\n",
    "// Differentiate `f(x) = (cos(x))^2`.\n",
    "let (output, backprop) = input.valueWithPullback { input -> Float in\n",
    "    return square(cos(input))\n",
    "}\n",
    "print(\"Running backpropagation...\")\n",
    "let grad = backprop(1)\n",
    "print(\"Gradient = \\(grad)\")"
   ]
  },
  {
   "cell_type": "markdown",
   "metadata": {
    "colab_type": "text",
    "id": "7SxWsSUqF9Bh"
   },
   "source": [
    "### Extend it to neural network modules\n",
    "\n",
    "In this example, we define a simple convolutional neural network.\n",
    "\n",
    "```swift\n",
    "struct Model: Layer {\n",
    "    var conv = Conv2D<Float>(filterShape: (5, 5, 3, 6))\n",
    "    var maxPool = MaxPool2D<Float>(poolSize: (2, 2), strides: (2, 2))\n",
    "    var flatten = Flatten<Float>()\n",
    "    var dense = Dense<Float>(inputSize: 36 * 6, outputSize: 10)\n",
    "\n",
    "    @differentiable\n",
    "    func applied(to input: Tensor<Float>, in context: Context) -> Tensor<Float> {\n",
    "        return input.sequenced(in: context, through: conv, maxPool, flatten, dense)\n",
    "    }\n",
    "}\n",
    "```\n",
    "\n",
    "We want to make activations in the convolution layer (`conv`) be recomputed during backpropagation. However, using `makeRecomputedInGradient(_:)` could make the resulting code look cumbersome, especially when we want to apply layers sequentially using [`sequenced(in:through:_:_:_:_:)`](https://www.tensorflow.org/swift/api_docs/Protocols/Differentiable#/s:10TensorFlow14DifferentiablePAAE9sequenced2in7through____6OutputQyd_3_AA7ContextC_qd__qd_0_qd_1_qd_2_qd_3_t5InputQyd__RszAA5LayerRd__AaMRd_0_AaMRd_1_AaMRd_2_AaMRd_3_AKQyd_0_AGRtd__AKQyd_1_AGRtd_0_AKQyd_2_AGRtd_1_AKQyd_3_AGRtd_2_r3_lF).\n",
    "\n",
    "```swift\n",
    "input.sequenced(in: context, through: conv, maxPool, flatten, dense)\n",
    "```\n",
    "\n",
    "So, why don't we define a **special layer type** that wraps a layer and makes its activations be recomputed during backpropagation? Let's do it."
   ]
  },
  {
   "cell_type": "markdown",
   "metadata": {
    "colab_type": "text",
    "id": "ZP86M5RjP3OG"
   },
   "source": [
    "First, we define a `makeRecomputedInGradient(_:)` function that takes a binary function."
   ]
  },
  {
   "cell_type": "code",
   "execution_count": 7,
   "metadata": {
    "colab": {},
    "colab_type": "code",
    "id": "bEm-n5H0QB8s"
   },
   "outputs": [],
   "source": [
    "// Same as the previous `makeRecomputedInGradient(_:)`, except it's for binary functions.\n",
    "func makeRecomputedInGradient<T: Differentiable, U: Differentiable, V: Differentiable>(\n",
    "    _ original: @escaping @differentiable (T, U) -> V\n",
    ") -> @differentiable (T, U) -> V {\n",
    "    return differentiableFunction { x, y in\n",
    "        (value: original(x, y), pullback: { v in pullback(at: x, y, in: original)(v) })\n",
    "    }\n",
    "}"
   ]
  },
  {
   "cell_type": "markdown",
   "metadata": {
    "colab_type": "text",
    "id": "YU6DgqXxP5Nl"
   },
   "source": [
    "Then, we define a generic layer `ActivationRecomputing<Wrapped>`."
   ]
  },
  {
   "cell_type": "code",
   "execution_count": 8,
   "metadata": {
    "colab": {},
    "colab_type": "code",
    "id": "ao1r_lIPGeOl"
   },
   "outputs": [],
   "source": [
    "/// A layer wrapper that makes the underlying layer's activations be discarded during application\n",
    "/// and recomputed during backpropagation.\n",
    "struct ActivationDiscarding<Wrapped: Layer>: Layer \n",
    "    where Wrapped.AllDifferentiableVariables == Wrapped.CotangentVector {\n",
    "    /// The wrapped layer.\n",
    "    var wrapped: Wrapped\n",
    "\n",
    "    @differentiable\n",
    "    func applied(to input: Wrapped.Input) -> Wrapped.Output {\n",
    "        let apply = makeRecomputedInGradient { (layer: Wrapped, input: Input) -> Wrapped.Output in\n",
    "            print(\"    Applying \\(Wrapped.self) layer...\")\n",
    "            return layer.applied(to: input)\n",
    "        }\n",
    "        return apply(wrapped, input)\n",
    "    }\n",
    "}"
   ]
  },
  {
   "cell_type": "markdown",
   "metadata": {
    "colab_type": "text",
    "id": "HqPXwwuTRjmz"
   },
   "source": [
    "Finally, we can add a method on all layers that returns the same layer except its activations are discarded during application and recomputeed during backpropagation."
   ]
  },
  {
   "cell_type": "code",
   "execution_count": 9,
   "metadata": {
    "colab": {},
    "colab_type": "code",
    "id": "PGgkNnNNR1th"
   },
   "outputs": [],
   "source": [
    "extension Layer where AllDifferentiableVariables == CotangentVector {\n",
    "    func discardingActivations() -> ActivationDiscarding<Self> {\n",
    "        return ActivationDiscarding(wrapped: self)\n",
    "    }\n",
    "}"
   ]
  },
  {
   "cell_type": "markdown",
   "metadata": {
    "colab_type": "text",
    "id": "8PP-NZ9XU5_n"
   },
   "source": [
    "Back in the model, all we have to change is to wrap the convolution layer into the activation-recomputing layer.\n",
    "\n",
    "```swift\n",
    "var conv = Conv2D<Float>(filterShape: (5, 5, 3, 6)).discardingActivations()\n",
    "```"
   ]
  },
  {
   "cell_type": "markdown",
   "metadata": {
    "colab_type": "text",
    "id": "bCwNPtCfSbGi"
   },
   "source": [
    "Now, simply use it in the model!"
   ]
  },
  {
   "cell_type": "code",
   "execution_count": 10,
   "metadata": {
    "colab": {},
    "colab_type": "code",
    "id": "gsWGwFjOJ3Md"
   },
   "outputs": [],
   "source": [
    "struct Model: Layer {\n",
    "    var conv = Conv2D<Float>(filterShape: (5, 5, 3, 6)).discardingActivations()\n",
    "    var maxPool = MaxPool2D<Float>(poolSize: (2, 2), strides: (2, 2))\n",
    "    var flatten = Flatten<Float>()\n",
    "    var dense = Dense<Float>(inputSize: 36 * 6, outputSize: 10)\n",
    "\n",
    "    @differentiable\n",
    "    func applied(to input: Tensor<Float>) -> Tensor<Float> {\n",
    "        return input.sequenced(through: conv, maxPool, flatten, dense)\n",
    "    }\n",
    "}"
   ]
  },
  {
   "cell_type": "markdown",
   "metadata": {
    "colab_type": "text",
    "id": "dmFxciU6VYdF"
   },
   "source": [
    "When we run a training loop, we can see that the convolution layer's activations are computed twice: once during layer application, and once during backpropagation."
   ]
  },
  {
   "cell_type": "code",
   "execution_count": 12,
   "metadata": {
    "colab": {
     "base_uri": "https://localhost:8080/",
     "height": 527
    },
    "colab_type": "code",
    "id": "-x1nYu0uVSPn",
    "outputId": "fcdc6e19-2ffa-49f3-908f-e5823a485f9d"
   },
   "outputs": [
    {
     "name": "stdout",
     "output_type": "stream",
     "text": [
      "Starting training step 1\r\n",
      "  Running original computation...\r\n",
      "    Applying Conv2D<Float> layer...\r\n",
      "  Loss: 3.1117673\r\n",
      "  Running backpropagation...\r\n",
      "    Applying Conv2D<Float> layer...\r\n",
      "Starting training step 2\r\n",
      "  Running original computation...\r\n",
      "    Applying Conv2D<Float> layer...\r\n",
      "  Loss: 2.7366023\r\n",
      "  Running backpropagation...\r\n",
      "    Applying Conv2D<Float> layer...\r\n",
      "Starting training step 3\r\n",
      "  Running original computation...\r\n",
      "    Applying Conv2D<Float> layer...\r\n",
      "  Loss: 2.4591331\r\n",
      "  Running backpropagation...\r\n",
      "    Applying Conv2D<Float> layer...\r\n",
      "Starting training step 4\r\n",
      "  Running original computation...\r\n",
      "    Applying Conv2D<Float> layer...\r\n",
      "  Loss: 2.2312381\r\n",
      "  Running backpropagation...\r\n",
      "    Applying Conv2D<Float> layer...\r\n",
      "Starting training step 5\r\n",
      "  Running original computation...\r\n",
      "    Applying Conv2D<Float> layer...\r\n",
      "  Loss: 2.035059\r\n",
      "  Running backpropagation...\r\n",
      "    Applying Conv2D<Float> layer...\r\n"
     ]
    }
   ],
   "source": [
    "// Use random training data.\n",
    "let x = Tensor<Float>(randomNormal: [10, 16, 16, 3])\n",
    "let y = Tensor<Int32>(rangeFrom: 0, to: 10, stride: 1)\n",
    "\n",
    "var model = Model()\n",
    "let opt = SGD(for: model)\n",
    "\n",
    "for i in 1...5 {\n",
    "    print(\"Starting training step \\(i)\")\n",
    "    print(\"  Running original computation...\")\n",
    "    let (logits, backprop) = model.appliedForBackpropagation(to: x)\n",
    "    let (loss, dL_dŷ) = logits.valueWithGradient { logits in\n",
    "        softmaxCrossEntropy(logits: logits, labels: y)\n",
    "    }\n",
    "    print(\"  Loss: \\(loss)\")\n",
    "    print(\"  Running backpropagation...\")\n",
    "    let (dL_dθ, _) = backprop(dL_dŷ)\n",
    "    \n",
    "    opt.update(&model.allDifferentiableVariables, along: dL_dθ)\n",
    "}"
   ]
  },
  {
   "cell_type": "markdown",
   "metadata": {
    "colab_type": "text",
    "id": "gzRaZLa_WX0u"
   },
   "source": [
    "Just like that, it is super easy to define generic differentiable programming libraries for different domains."
   ]
  }
 ],
 "metadata": {
  "colab": {
   "collapsed_sections": [],
   "name": "Custom differentiation.ipynb",
   "provenance": [],
   "toc_visible": true,
   "version": "0.3.2"
  },
  "kernelspec": {
   "display_name": "Swift",
   "language": "swift",
   "name": "swift"
  },
  "language_info": {
   "file_extension": ".swift",
   "mimetype": "text/x-swift",
   "name": "swift",
   "version": ""
  }
 },
 "nbformat": 4,
 "nbformat_minor": 1
}
